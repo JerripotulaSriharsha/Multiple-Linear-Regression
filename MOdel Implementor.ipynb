{
 "cells": [
  {
   "cell_type": "code",
   "execution_count": 2,
   "metadata": {},
   "outputs": [],
   "source": [
    "import pickle\n",
    "model = pickle.load(open('ProfitPredictor.model','rb'))\n",
    "stateLabelEncoder = pickle.load(open('StateEncoder.encoder','rb'))\n",
    "stateOHE = pickle.load(open('StateDummyVariableCreator.dummy','rb'))"
   ]
  },
  {
   "cell_type": "code",
   "execution_count": 3,
   "metadata": {},
   "outputs": [],
   "source": [
    "import numpy as np"
   ]
  },
  {
   "cell_type": "code",
   "execution_count": 4,
   "metadata": {},
   "outputs": [
    {
     "name": "stdout",
     "output_type": "stream",
     "text": [
      "Enter R&D Spend: 23456\n",
      "Enter Admin Spend: 23456\n",
      "Enter Marketing Spend: 23456\n",
      "Enter State: California\n",
      "Estimated profit as calculated by Siri is [[69440.27094292]]\n"
     ]
    }
   ],
   "source": [
    "#User Interaction\n",
    "rdSpend = float(input(\"Enter R&D Spend: \"))\n",
    "admSpend = float(input(\"Enter Admin Spend: \"))\n",
    "markSpend = float(input(\"Enter Marketing Spend: \"))\n",
    "state = input(\"Enter State: \")\n",
    "\n",
    "#My model can understand only California, Florida and NY \n",
    "\n",
    "if state in stateLabelEncoder.classes_:\n",
    "   #Lets create feature variable\n",
    "    featureArray = np.array([[rdSpend,admSpend,markSpend,state]])\n",
    "\n",
    "    #Lets do feature processing to make the input compatible for the model\n",
    "    # I will need StateLabelEncoder object used during training\n",
    "    # I will need StateOHE object used during training\n",
    "\n",
    "    featureArray[:,3] = stateLabelEncoder.transform(featureArray[:,3])\n",
    "    featureArray = stateOHE.transform(featureArray).toarray()\n",
    "    \n",
    "    #Give featureArray to model\n",
    "    profit = model.predict(featureArray)\n",
    "    print(\"Estimated profit as calculated by Siri is {}\".format(profit))\n",
    "\n",
    "else:\n",
    "    print(\"Siri says she don't know about {} state\".format(state))\n"
   ]
  },
  {
   "cell_type": "code",
   "execution_count": null,
   "metadata": {},
   "outputs": [],
   "source": []
  }
 ],
 "metadata": {
  "kernelspec": {
   "display_name": "Python 3",
   "language": "python",
   "name": "python3"
  },
  "language_info": {
   "codemirror_mode": {
    "name": "ipython",
    "version": 3
   },
   "file_extension": ".py",
   "mimetype": "text/x-python",
   "name": "python",
   "nbconvert_exporter": "python",
   "pygments_lexer": "ipython3",
   "version": "3.7.6"
  }
 },
 "nbformat": 4,
 "nbformat_minor": 2
}
